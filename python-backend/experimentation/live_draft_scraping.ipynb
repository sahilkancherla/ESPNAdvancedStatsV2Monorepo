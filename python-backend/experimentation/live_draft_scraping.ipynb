{
 "cells": [
  {
   "cell_type": "code",
   "execution_count": 39,
   "id": "5a03414b",
   "metadata": {},
   "outputs": [],
   "source": [
    "draft_link = \"https://fantasy.espn.com/football/draft?leagueId=35762077&seasonId=2025&teamId=2&memberId=%7B864C6648-6746-42D3-A0D2-C2041D50FADD%7D\""
   ]
  },
  {
   "cell_type": "code",
   "execution_count": 40,
   "id": "bbbca462",
   "metadata": {},
   "outputs": [],
   "source": [
    "email = \"sahil.kancherla@gmail.com\"\n",
    "password = \"Fantasy$16519!\""
   ]
  },
  {
   "cell_type": "code",
   "execution_count": null,
   "id": "95c780e0",
   "metadata": {},
   "outputs": [
    {
     "name": "stdout",
     "output_type": "stream",
     "text": [
      "Navigating to draft link...\n",
      "No login required or already logged in\n",
      "Waiting for draft data to load...\n",
      "Starting draft monitoring (checking every 30 seconds)...\n",
      "\n",
      "--- Check #1 ---\n",
      "Waiting for draft data to load...\n",
      "Scraping draft data...\n",
      "Data saved to draft_data_1755457556.json\n",
      "Teams: 0\n",
      "Total picks: 0\n",
      "Available players: 0\n",
      "\n",
      "--- Check #2 ---\n",
      "Waiting for draft data to load...\n",
      "Scraping draft data...\n",
      "Data saved to draft_data_1755457622.json\n",
      "Teams: 0\n",
      "Total picks: 0\n",
      "Available players: 0\n",
      "\n",
      "--- Check #3 ---\n",
      "Waiting for draft data to load...\n",
      "Scraping draft data...\n",
      "Error scraping data: Page.query_selector_all: Connection closed while reading from the driver\n",
      "Data saved to draft_data_1755457671.json\n",
      "Teams: 0\n",
      "Total picks: 0\n",
      "Available players: 0\n"
     ]
    }
   ],
   "source": []
  },
  {
   "cell_type": "code",
   "execution_count": null,
   "id": "fddd348e",
   "metadata": {},
   "outputs": [],
   "source": []
  }
 ],
 "metadata": {
  "kernelspec": {
   "display_name": ".venv",
   "language": "python",
   "name": "python3"
  },
  "language_info": {
   "codemirror_mode": {
    "name": "ipython",
    "version": 3
   },
   "file_extension": ".py",
   "mimetype": "text/x-python",
   "name": "python",
   "nbconvert_exporter": "python",
   "pygments_lexer": "ipython3",
   "version": "3.10.0"
  }
 },
 "nbformat": 4,
 "nbformat_minor": 5
}
