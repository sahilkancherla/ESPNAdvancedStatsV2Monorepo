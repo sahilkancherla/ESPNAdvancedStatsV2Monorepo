{
 "cells": [
  {
   "cell_type": "code",
   "execution_count": 36,
   "id": "8de38f65",
   "metadata": {},
   "outputs": [],
   "source": [
    "from dotenv import load_dotenv\n",
    "import os\n",
    "from espn_api.football import League"
   ]
  },
  {
   "cell_type": "code",
   "execution_count": 37,
   "id": "2d07b47d",
   "metadata": {},
   "outputs": [],
   "source": [
    "load_dotenv()\n",
    "\n",
    "league_id = os.getenv('LEAGUE_ID')\n",
    "swid = os.getenv('SWID')\n",
    "espn_s2 = os.getenv('ESPN_S2')\n",
    "year = 2024\n",
    "week = 10\n",
    "league_median_name = 'League Median'\n",
    "against_league_median_team_id = 1"
   ]
  },
  {
   "cell_type": "code",
   "execution_count": 38,
   "id": "712086db",
   "metadata": {},
   "outputs": [],
   "source": [
    "league = League(league_id=league_id, year=year, espn_s2=espn_s2, swid=swid)"
   ]
  },
  {
   "cell_type": "code",
   "execution_count": null,
   "id": "7dd6f098",
   "metadata": {},
   "outputs": [],
   "source": [
    "def get_current_and_projected_scores_for_week(league, week, league_median_name):\n",
    "    box_scores = league.box_scores(week = week)\n",
    "    teams_and_current_scores = []\n",
    "    teams_and_projected_scores = []\n",
    "    for box_score in box_scores:\n",
    "        team_one = box_score.home_team\n",
    "        team_two = box_score.away_team\n",
    "        team_one_score = box_score.home_score\n",
    "        team_two_score = box_score.away_score\n",
    "        team_one_projected_score = box_score.home_projected\n",
    "        team_two_projected_score = box_score.away_projected\n",
    "\n",
    "        if team_one.team_name != league_median_name:\n",
    "            teams_and_current_scores.append((team_one.team_id, team_one_score))\n",
    "            teams_and_projected_scores.append((team_one.team_id, team_one_projected_score))\n",
    "        \n",
    "        if team_two.team_name != league_median_name:\n",
    "            teams_and_current_scores.append((team_two.team_id, team_two_score))\n",
    "            teams_and_projected_scores.append((team_two.team_id, team_two_projected_score))\n",
    "\n",
    "    return teams_and_current_scores, teams_and_projected_scores\n",
    "\n",
    "def get_league_median_not_including_league_median_opponent(league, week, league_median_name, against_league_median_id):\n",
    "    \n",
    "    teams_and_current_scores, teams_and_projected_scores = get_current_and_projected_scores_for_week(league, week, league_median_name)\n",
    "\n",
    "    sorted_teams_and_current_scores = sorted(teams_and_current_scores, key = lambda score: score[1])\n",
    "    sorted_teams_and_projected_scores = sorted(teams_and_projected_scores, key = lambda score: score[1])\n",
    "\n",
    "    filtered_sorted_teams_and_current_scores = [t for t in sorted_teams_and_current_scores if t[0] != against_league_median_id]\n",
    "    filtered_sorted_teams_and_projected_scores = [t for t in sorted_teams_and_projected_scores if t[0] != against_league_median_id]\n",
    "\n",
    "    below_league_median_index = -1\n",
    "    above_league_median_index = -1\n",
    "    n = len(filtered_sorted_teams_and_current_scores)\n",
    "    if n % 2 == 1:\n",
    "        below_league_median_index = n // 2\n",
    "        above_league_median_index = n // 2\n",
    "    else:\n",
    "        below_league_median_index = n // 2 - 1\n",
    "        above_league_median_index = n // 2\n",
    "\n",
    "    current_median = (filtered_sorted_teams_and_current_scores[below_league_median_index][1] + filtered_sorted_teams_and_current_scores[above_league_median_index][1])/2\n",
    "    projected_median = (filtered_sorted_teams_and_projected_scores[below_league_median_index][1] + filtered_sorted_teams_and_projected_scores[above_league_median_index][1])/2\n",
    "\n",
    "    below_league_median_team_id = filtered_sorted_teams_and_current_scores[below_league_median_index][0]\n",
    "    above_league_median_team_id = filtered_sorted_teams_and_current_scores[above_league_median_index][0]\n",
    "\n",
    "    return current_median, projected_median, below_league_median_team_id, above_league_median_team_id\n",
    "\n",
    "def get_current_data(league, current_week, league_median_name):\n",
    "    teams_and_current_scores, teams_and_projected_scores = get_current_and_projected_scores_for_week(league, current_week, league_median_name)\n",
    "    current_week_scores = {}\n",
    "\n",
    "    for current_score_info, projected_score_info in zip(teams_and_current_scores, teams_and_projected_scores):\n",
    "        team_id = current_score_info[0]\n",
    "        current_score = current_score_info[1]\n",
    "        projected_score = projected_score_info[1]\n",
    "\n",
    "        info = {}\n",
    "        info[\"currentScore\"] = current_score\n",
    "        info[\"projectedScore\"] = projected_score\n",
    "        current_week_scores[team_id] = info\n",
    "    return current_week_scores"
   ]
  },
  {
   "cell_type": "code",
   "execution_count": 40,
   "id": "f642c0b6",
   "metadata": {},
   "outputs": [],
   "source": [
    "teams_and_current_scores, teams_and_projected_scores = get_current_and_projected_scores_for_week(league=league, week=week, league_median_name=league_median_name)\n",
    "current_median, projected_median, below_league_median_team_id, above_league_median_team_id = get_league_median_not_including_league_median_opponent(league, week, league_median_name, against_league_median_team_id)"
   ]
  },
  {
   "cell_type": "code",
   "execution_count": 41,
   "id": "e9da3f7f",
   "metadata": {},
   "outputs": [
    {
     "name": "stdout",
     "output_type": "stream",
     "text": [
      "[(2, 95.64), (8, 116.74), (9, 98.3), (1, 129.3), (3, 128.84), (7, 106.52), (5, 88.48), (4, 83.94), (6, 103.78)]\n",
      "[(2, 121.33), (8, 112.12), (9, 120.84000000000002), (1, 122.61), (3, 114.43), (7, 123.60000000000001), (5, 112.5), (4, 113.03000000000002), (6, 111.72)]\n",
      "101.03999999999999 113.73000000000002 9 6\n"
     ]
    }
   ],
   "source": [
    "print(teams_and_current_scores)\n",
    "print(teams_and_projected_scores)\n",
    "print(current_median, projected_median, below_league_median_team_id, above_league_median_team_id)"
   ]
  },
  {
   "cell_type": "code",
   "execution_count": 42,
   "id": "eb2b9a36",
   "metadata": {},
   "outputs": [
    {
     "data": {
      "text/plain": [
       "{2: {'currentScore': 95.64, 'projectedScore': 121.33},\n",
       " 8: {'currentScore': 116.74, 'projectedScore': 112.12},\n",
       " 9: {'currentScore': 98.3, 'projectedScore': 120.84000000000002},\n",
       " 1: {'currentScore': 129.3, 'projectedScore': 122.61},\n",
       " 3: {'currentScore': 128.84, 'projectedScore': 114.43},\n",
       " 7: {'currentScore': 106.52, 'projectedScore': 123.60000000000001},\n",
       " 5: {'currentScore': 88.48, 'projectedScore': 112.5},\n",
       " 4: {'currentScore': 83.94, 'projectedScore': 113.03000000000002},\n",
       " 6: {'currentScore': 103.78, 'projectedScore': 111.72}}"
      ]
     },
     "execution_count": 42,
     "metadata": {},
     "output_type": "execute_result"
    }
   ],
   "source": [
    "current_week_scores = get_current_data(league, week, league_median_name)\n",
    "current_week_scores"
   ]
  },
  {
   "cell_type": "code",
   "execution_count": null,
   "id": "50463169",
   "metadata": {},
   "outputs": [],
   "source": []
  }
 ],
 "metadata": {
  "kernelspec": {
   "display_name": ".venv",
   "language": "python",
   "name": "python3"
  },
  "language_info": {
   "codemirror_mode": {
    "name": "ipython",
    "version": 3
   },
   "file_extension": ".py",
   "mimetype": "text/x-python",
   "name": "python",
   "nbconvert_exporter": "python",
   "pygments_lexer": "ipython3",
   "version": "3.10.0"
  }
 },
 "nbformat": 4,
 "nbformat_minor": 5
}
