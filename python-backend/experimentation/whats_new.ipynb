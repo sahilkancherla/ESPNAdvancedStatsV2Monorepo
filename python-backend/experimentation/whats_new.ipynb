{
 "cells": [
  {
   "cell_type": "code",
   "execution_count": 26,
   "id": "fe1cf52c",
   "metadata": {},
   "outputs": [
    {
     "data": {
      "text/plain": [
       "True"
      ]
     },
     "execution_count": 26,
     "metadata": {},
     "output_type": "execute_result"
    }
   ],
   "source": [
    "import requests\n",
    "import os\n",
    "from langchain_openai import ChatOpenAI\n",
    "from langchain.prompts import PromptTemplate\n",
    "from langchain.chains import LLMChain\n",
    "import json\n",
    "from dotenv import load_dotenv\n",
    "load_dotenv()\n"
   ]
  },
  {
   "cell_type": "code",
   "execution_count": 27,
   "id": "d232d37a",
   "metadata": {},
   "outputs": [],
   "source": [
    "tavily_key = os.getenv(\"TAVILY_API_KEY\")\n",
    "openai_key = os.getenv(\"OPENAI_API_KEY\")"
   ]
  },
  {
   "cell_type": "code",
   "execution_count": 28,
   "id": "cfaf3e13",
   "metadata": {},
   "outputs": [],
   "source": [
    "player_topic = \"Provide a detailed summary of what has changed in Nico Collins’s situation for the 2025 NFL season compared to the 2024 season. Include key changes such as new coaching staff, offensive/defensive scheme adjustments, additions or departures of key teammates, offensive line changes, quarterback changes, and any other relevant team or situational shifts that could impact his fantasy football value.\""
   ]
  },
  {
   "cell_type": "code",
   "execution_count": 29,
   "id": "66af3363",
   "metadata": {},
   "outputs": [
    {
     "name": "stdout",
     "output_type": "stream",
     "text": [
      "{'query': 'Provide a detailed summary of what has changed in Nico Collins’s situation for the 2025 NFL season compared to the 2024 season. Include key changes such as new coaching staff, offensive/defensive scheme adjustments, additions or departures of key teammates, offensive line changes, quarterback changes, and any other relevant team or situational shifts that could impact his fantasy football value.', 'follow_up_questions': None, 'answer': None, 'images': [], 'results': [{'url': 'https://www.youtube.com/watch?v=dQnDTob5hRA', 'title': \"Nico Collins, Josh Simmons among AFC's most important non-QBs\", 'content': 'Missing: changes 2025 2024 offensive/ scheme adjustments, key teammates additions/ departures, offensive line changes, situational shifts impacting', 'score': 0.84215075, 'raw_content': None}, {'url': 'https://www.espn.com/nfl/story/_/id/45869283/houston-texans-offense-ups-downs-cj-stroud-nico-collins-joe-mixon', 'title': 'Improving Texans offense has seen its ups and downs in camp - ESPN', 'content': 'Missing: summary changes 2024 key teammates additions/ departures, changes, situational shifts impacting', 'score': 0.7036111, 'raw_content': None}, {'url': 'https://gridironexperts.com/nfl-coaching-and-offensive-line-breakdowns-afc/', 'title': 'NFL Coaching and Offensive Line Breakdowns (AFC)', 'content': 'Missing: summary key departures, situational shifts', 'score': 0.598524, 'raw_content': None}, {'url': 'https://www.youtube.com/watch?v=c05payQxNU4', 'title': \"Here's How Nico Collins is Even BETTER for the Houston Texans in ...\", 'content': 'The Houston Texans could get the best version of Nico Collins in 2025. How? Cody explains and answers the next set of questions in the 25 on', 'score': 0.47606868, 'raw_content': None}, {'url': 'https://redcircle.com/shows/from-the-pink-seats', 'title': 'From The Pink Seats | RedCircle', 'content': 'From roster changes and key returning players to coaching staff adjustments ... 2025. Episode 177 - Season In Review Part 3 with Mark Ennis | 2024 Storylines.', 'score': 0.4108041, 'raw_content': None}], 'response_time': 2.09, 'request_id': 'ec5c7f9e-3c1b-43a0-a48c-c47fa99c7fbe'}\n"
     ]
    }
   ],
   "source": [
    "from tavily import TavilyClient\n",
    "\n",
    "tavily_client = TavilyClient(api_key=tavily_key)\n",
    "response = tavily_client.search(query=player_topic)\n",
    "\n",
    "print(response)"
   ]
  },
  {
   "cell_type": "code",
   "execution_count": 30,
   "id": "841cf3e3",
   "metadata": {},
   "outputs": [
    {
     "data": {
      "text/plain": [
       "{'query': 'Provide a detailed summary of what has changed in Nico Collins’s situation for the 2025 NFL season compared to the 2024 season. Include key changes such as new coaching staff, offensive/defensive scheme adjustments, additions or departures of key teammates, offensive line changes, quarterback changes, and any other relevant team or situational shifts that could impact his fantasy football value.',\n",
       " 'follow_up_questions': None,\n",
       " 'answer': None,\n",
       " 'images': [],\n",
       " 'results': [{'url': 'https://www.youtube.com/watch?v=dQnDTob5hRA',\n",
       "   'title': \"Nico Collins, Josh Simmons among AFC's most important non-QBs\",\n",
       "   'content': 'Missing: changes 2025 2024 offensive/ scheme adjustments, key teammates additions/ departures, offensive line changes, situational shifts impacting',\n",
       "   'score': 0.84215075,\n",
       "   'raw_content': None},\n",
       "  {'url': 'https://www.espn.com/nfl/story/_/id/45869283/houston-texans-offense-ups-downs-cj-stroud-nico-collins-joe-mixon',\n",
       "   'title': 'Improving Texans offense has seen its ups and downs in camp - ESPN',\n",
       "   'content': 'Missing: summary changes 2024 key teammates additions/ departures, changes, situational shifts impacting',\n",
       "   'score': 0.7036111,\n",
       "   'raw_content': None},\n",
       "  {'url': 'https://gridironexperts.com/nfl-coaching-and-offensive-line-breakdowns-afc/',\n",
       "   'title': 'NFL Coaching and Offensive Line Breakdowns (AFC)',\n",
       "   'content': 'Missing: summary key departures, situational shifts',\n",
       "   'score': 0.598524,\n",
       "   'raw_content': None},\n",
       "  {'url': 'https://www.youtube.com/watch?v=c05payQxNU4',\n",
       "   'title': \"Here's How Nico Collins is Even BETTER for the Houston Texans in ...\",\n",
       "   'content': 'The Houston Texans could get the best version of Nico Collins in 2025. How? Cody explains and answers the next set of questions in the 25 on',\n",
       "   'score': 0.47606868,\n",
       "   'raw_content': None},\n",
       "  {'url': 'https://redcircle.com/shows/from-the-pink-seats',\n",
       "   'title': 'From The Pink Seats | RedCircle',\n",
       "   'content': 'From roster changes and key returning players to coaching staff adjustments ... 2025. Episode 177 - Season In Review Part 3 with Mark Ennis | 2024 Storylines.',\n",
       "   'score': 0.4108041,\n",
       "   'raw_content': None}],\n",
       " 'response_time': 2.09,\n",
       " 'request_id': 'ec5c7f9e-3c1b-43a0-a48c-c47fa99c7fbe'}"
      ]
     },
     "execution_count": 30,
     "metadata": {},
     "output_type": "execute_result"
    }
   ],
   "source": [
    "response"
   ]
  },
  {
   "cell_type": "code",
   "execution_count": 32,
   "id": "d9359024",
   "metadata": {},
   "outputs": [
    {
     "ename": "AttributeError",
     "evalue": "module 'nfl_data_py' has no attribute 'import_weekly_player_participation'",
     "output_type": "error",
     "traceback": [
      "\u001b[0;31m---------------------------------------------------------------------------\u001b[0m",
      "\u001b[0;31mAttributeError\u001b[0m                            Traceback (most recent call last)",
      "Cell \u001b[0;32mIn[32], line 4\u001b[0m\n\u001b[1;32m      1\u001b[0m \u001b[38;5;28;01mimport\u001b[39;00m\u001b[38;5;250m \u001b[39m\u001b[38;5;21;01mnfl_data_py\u001b[39;00m\u001b[38;5;250m \u001b[39m\u001b[38;5;28;01mas\u001b[39;00m\u001b[38;5;250m \u001b[39m\u001b[38;5;21;01mnfl\u001b[39;00m\n\u001b[1;32m      3\u001b[0m \u001b[38;5;66;03m# Example: get weekly player participation data (snap counts)\u001b[39;00m\n\u001b[0;32m----> 4\u001b[0m df \u001b[38;5;241m=\u001b[39m \u001b[43mnfl\u001b[49m\u001b[38;5;241;43m.\u001b[39;49m\u001b[43mimport_weekly_player_participation\u001b[49m(years\u001b[38;5;241m=\u001b[39m[\u001b[38;5;241m2024\u001b[39m])\n\u001b[1;32m      5\u001b[0m \u001b[38;5;28mprint\u001b[39m(df\u001b[38;5;241m.\u001b[39mhead())\n",
      "\u001b[0;31mAttributeError\u001b[0m: module 'nfl_data_py' has no attribute 'import_weekly_player_participation'"
     ]
    }
   ],
   "source": [
    "import nfl_data_py as nfl\n",
    "\n",
    "# Example: get weekly player participation data (snap counts)\n",
    "df = nfl.import_weekly_player_participation(years=[2024])\n",
    "print(df.head())\n"
   ]
  },
  {
   "cell_type": "code",
   "execution_count": null,
   "id": "2ec8a5af",
   "metadata": {},
   "outputs": [],
   "source": []
  }
 ],
 "metadata": {
  "kernelspec": {
   "display_name": ".venv",
   "language": "python",
   "name": "python3"
  },
  "language_info": {
   "codemirror_mode": {
    "name": "ipython",
    "version": 3
   },
   "file_extension": ".py",
   "mimetype": "text/x-python",
   "name": "python",
   "nbconvert_exporter": "python",
   "pygments_lexer": "ipython3",
   "version": "3.10.0"
  }
 },
 "nbformat": 4,
 "nbformat_minor": 5
}
