{
 "cells": [
  {
   "cell_type": "code",
   "execution_count": 44,
   "id": "217cf1fe",
   "metadata": {},
   "outputs": [],
   "source": [
    "from dotenv import load_dotenv\n",
    "import os\n",
    "from espn_api.football import League\n",
    "import json"
   ]
  },
  {
   "cell_type": "code",
   "execution_count": 45,
   "id": "7ca03c6b",
   "metadata": {},
   "outputs": [],
   "source": [
    "load_dotenv()\n",
    "\n",
    "external_league_id = os.getenv('LEAGUE_ID')\n",
    "swid = os.getenv('SWID')\n",
    "espn_s2 = os.getenv('ESPN_S2')\n",
    "year = 2024"
   ]
  },
  {
   "cell_type": "code",
   "execution_count": 46,
   "id": "23e4006d",
   "metadata": {},
   "outputs": [],
   "source": [
    "league = League(league_id=external_league_id, year=year, espn_s2=espn_s2, swid=swid)"
   ]
  },
  {
   "cell_type": "code",
   "execution_count": 47,
   "id": "8185ec80",
   "metadata": {},
   "outputs": [],
   "source": [
    "import os\n",
    "from supabase import create_client, Client\n",
    "\n",
    "def get_supabase_client():\n",
    "    # load supabase client    \n",
    "    supabase: Client = create_client(os.getenv(\"SUPABASE_URL\"), os.getenv(\"SUPABASE_KEY\"))\n",
    "    return supabase\n",
    "\n",
    "# supabase helper functions\n",
    "def get_league_id_from_espn_league_id(supabase_client, external_league_id):\n",
    "    response = supabase_client.table(\"leagues\").select(\"id\").eq(\"external_league_id\", external_league_id).execute()\n",
    "    return response.data[0][\"id\"]\n",
    "\n",
    "\n",
    "def get_teams_in_league(supabase_client, league_id):\n",
    "    response = supabase_client.table(\"teams\").select(\"id, team_name, espn_team_id\").eq(\"league_id\", league_id).execute()\n",
    "    return response.data\n",
    "\n",
    "def get_espn_player_id_to_player_id_map(supabase_client):\n",
    "    response = supabase_client.table(\"nfl_players\").select(\"id, espn_player_id\").execute()\n",
    "    player_map = {}\n",
    "    for player in response.data:\n",
    "        player_map[player[\"espn_player_id\"]] = player[\"id\"]\n",
    "    return player_map"
   ]
  },
  {
   "cell_type": "code",
   "execution_count": 52,
   "id": "5c473668",
   "metadata": {},
   "outputs": [
    {
     "ename": "APIError",
     "evalue": "{'message': \"Could not find the table 'public.draft_picks' in the schema cache\", 'code': 'PGRST205', 'hint': \"Perhaps you meant the table 'public.draft_order'\", 'details': None}",
     "output_type": "error",
     "traceback": [
      "\u001b[0;31m---------------------------------------------------------------------------\u001b[0m",
      "\u001b[0;31mAPIError\u001b[0m                                  Traceback (most recent call last)",
      "Cell \u001b[0;32mIn[52], line 38\u001b[0m\n\u001b[1;32m     27\u001b[0m             draft_picks\u001b[38;5;241m.\u001b[39mappend({\n\u001b[1;32m     28\u001b[0m                 \u001b[38;5;124m\"\u001b[39m\u001b[38;5;124mleague_id\u001b[39m\u001b[38;5;124m\"\u001b[39m: league_id,\n\u001b[1;32m     29\u001b[0m                 \u001b[38;5;124m\"\u001b[39m\u001b[38;5;124mteam_id\u001b[39m\u001b[38;5;124m\"\u001b[39m: \u001b[38;5;28;01mNone\u001b[39;00m,\n\u001b[0;32m   (...)\u001b[0m\n\u001b[1;32m     32\u001b[0m                 \u001b[38;5;124m\"\u001b[39m\u001b[38;5;124mpick\u001b[39m\u001b[38;5;124m\"\u001b[39m: draft_pick\u001b[38;5;241m.\u001b[39mround_pick\n\u001b[1;32m     33\u001b[0m             })\n\u001b[1;32m     35\u001b[0m     supabase_client\u001b[38;5;241m.\u001b[39mtable(\u001b[38;5;124m\"\u001b[39m\u001b[38;5;124mdraft_picks\u001b[39m\u001b[38;5;124m\"\u001b[39m)\u001b[38;5;241m.\u001b[39minsert(draft_picks)\u001b[38;5;241m.\u001b[39mexecute() \n\u001b[0;32m---> 38\u001b[0m \u001b[43minsert_league_draft_picks\u001b[49m\u001b[43m(\u001b[49m\u001b[43mleague\u001b[49m\u001b[43m)\u001b[49m\n",
      "Cell \u001b[0;32mIn[52], line 35\u001b[0m, in \u001b[0;36minsert_league_draft_picks\u001b[0;34m(league)\u001b[0m\n\u001b[1;32m     26\u001b[0m     \u001b[38;5;28;01mexcept\u001b[39;00m:\n\u001b[1;32m     27\u001b[0m         draft_picks\u001b[38;5;241m.\u001b[39mappend({\n\u001b[1;32m     28\u001b[0m             \u001b[38;5;124m\"\u001b[39m\u001b[38;5;124mleague_id\u001b[39m\u001b[38;5;124m\"\u001b[39m: league_id,\n\u001b[1;32m     29\u001b[0m             \u001b[38;5;124m\"\u001b[39m\u001b[38;5;124mteam_id\u001b[39m\u001b[38;5;124m\"\u001b[39m: \u001b[38;5;28;01mNone\u001b[39;00m,\n\u001b[0;32m   (...)\u001b[0m\n\u001b[1;32m     32\u001b[0m             \u001b[38;5;124m\"\u001b[39m\u001b[38;5;124mpick\u001b[39m\u001b[38;5;124m\"\u001b[39m: draft_pick\u001b[38;5;241m.\u001b[39mround_pick\n\u001b[1;32m     33\u001b[0m         })\n\u001b[0;32m---> 35\u001b[0m \u001b[43msupabase_client\u001b[49m\u001b[38;5;241;43m.\u001b[39;49m\u001b[43mtable\u001b[49m\u001b[43m(\u001b[49m\u001b[38;5;124;43m\"\u001b[39;49m\u001b[38;5;124;43mdraft_picks\u001b[39;49m\u001b[38;5;124;43m\"\u001b[39;49m\u001b[43m)\u001b[49m\u001b[38;5;241;43m.\u001b[39;49m\u001b[43minsert\u001b[49m\u001b[43m(\u001b[49m\u001b[43mdraft_picks\u001b[49m\u001b[43m)\u001b[49m\u001b[38;5;241;43m.\u001b[39;49m\u001b[43mexecute\u001b[49m\u001b[43m(\u001b[49m\u001b[43m)\u001b[49m\n",
      "File \u001b[0;32m~/Documents/ESPNAdvancedStatsV2/.venv/lib/python3.10/site-packages/postgrest/_sync/request_builder.py:78\u001b[0m, in \u001b[0;36mSyncQueryRequestBuilder.execute\u001b[0;34m(self)\u001b[0m\n\u001b[1;32m     76\u001b[0m     \u001b[38;5;28;01melse\u001b[39;00m:\n\u001b[1;32m     77\u001b[0m         json_obj \u001b[38;5;241m=\u001b[39m model_validate_json(APIErrorFromJSON, r\u001b[38;5;241m.\u001b[39mcontent)\n\u001b[0;32m---> 78\u001b[0m         \u001b[38;5;28;01mraise\u001b[39;00m APIError(\u001b[38;5;28mdict\u001b[39m(json_obj))\n\u001b[1;32m     79\u001b[0m \u001b[38;5;28;01mexcept\u001b[39;00m ValidationError \u001b[38;5;28;01mas\u001b[39;00m e:\n\u001b[1;32m     80\u001b[0m     \u001b[38;5;28;01mraise\u001b[39;00m APIError(generate_default_error_message(r))\n",
      "\u001b[0;31mAPIError\u001b[0m: {'message': \"Could not find the table 'public.draft_picks' in the schema cache\", 'code': 'PGRST205', 'hint': \"Perhaps you meant the table 'public.draft_order'\", 'details': None}"
     ]
    }
   ],
   "source": [
    "\n",
    "def insert_league_draft_picks(league):\n",
    "    if league.draft is None or len(league.draft) == 0:\n",
    "        return\n",
    "\n",
    "    external_league_id = league.league_id\n",
    "\n",
    "    supabase_client = get_supabase_client()\n",
    "    league_id = get_league_id_from_espn_league_id(supabase_client, external_league_id)\n",
    "    teams_in_league = get_teams_in_league(supabase_client, league_id)\n",
    "    espn_player_id_to_player_id_map = get_espn_player_id_to_player_id_map(supabase_client)\n",
    "    \n",
    "    draft_picks = []\n",
    "\n",
    "    for draft_pick in league.draft:\n",
    "        try:\n",
    "            espn_team_id = draft_pick.team.team_id\n",
    "            team_id = next(team[\"id\"] for team in teams_in_league if team[\"espn_team_id\"] == espn_team_id)\n",
    "            player_id = espn_player_id_to_player_id_map[draft_pick.playerId]\n",
    "            draft_picks.append({\n",
    "                \"league_id\": league_id,\n",
    "                \"team_id\": team_id,\n",
    "                \"player_id\": player_id,\n",
    "                \"round\": draft_pick.round_num,\n",
    "                \"pick\": draft_pick.round_pick\n",
    "            })\n",
    "        except:\n",
    "            draft_picks.append({\n",
    "                \"league_id\": league_id,\n",
    "                \"team_id\": None,\n",
    "                \"player_id\": None,\n",
    "                \"round\": draft_pick.round_num,\n",
    "                \"pick\": draft_pick.round_pick\n",
    "            })\n",
    "\n",
    "    supabase_client.table(\"draft_picks\").insert(draft_picks).execute() \n",
    "    \n",
    "\n",
    "insert_league_draft_picks(league)"
   ]
  },
  {
   "cell_type": "code",
   "execution_count": null,
   "id": "3f4fb348",
   "metadata": {},
   "outputs": [],
   "source": []
  },
  {
   "cell_type": "code",
   "execution_count": null,
   "id": "3afe7fec",
   "metadata": {},
   "outputs": [],
   "source": []
  }
 ],
 "metadata": {
  "kernelspec": {
   "display_name": ".venv",
   "language": "python",
   "name": "python3"
  },
  "language_info": {
   "codemirror_mode": {
    "name": "ipython",
    "version": 3
   },
   "file_extension": ".py",
   "mimetype": "text/x-python",
   "name": "python",
   "nbconvert_exporter": "python",
   "pygments_lexer": "ipython3",
   "version": "3.10.0"
  }
 },
 "nbformat": 4,
 "nbformat_minor": 5
}
